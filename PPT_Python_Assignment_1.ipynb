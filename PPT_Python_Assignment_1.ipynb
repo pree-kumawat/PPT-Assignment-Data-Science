{
  "nbformat": 4,
  "nbformat_minor": 0,
  "metadata": {
    "colab": {
      "provenance": []
    },
    "kernelspec": {
      "name": "python3",
      "display_name": "Python 3"
    },
    "language_info": {
      "name": "python"
    }
  },
  "cells": [
    {
      "cell_type": "markdown",
      "source": [
        "1. Write a Python program to reverse a string without using any built-in string reversal functions."
      ],
      "metadata": {
        "id": "hZzfHbTtnIHL"
      }
    },
    {
      "cell_type": "code",
      "execution_count": null,
      "metadata": {
        "colab": {
          "base_uri": "https://localhost:8080/"
        },
        "id": "pglNEVpjmzay",
        "outputId": "da7c1cab-629c-4d76-fe15-04967727c25f"
      },
      "outputs": [
        {
          "output_type": "stream",
          "name": "stdout",
          "text": [
            "Reversed string: !dlroW ,olleH\n"
          ]
        }
      ],
      "source": [
        "def reverse_string(string):\n",
        "    reversed_string = \"\"\n",
        "    for i in range(len(string) - 1, -1, -1):\n",
        "        reversed_string += string[i]\n",
        "    return reversed_string\n",
        "\n",
        "# Example\n",
        "input_string = \"Hello, World!\"\n",
        "reversed_string = reverse_string(input_string)\n",
        "print(\"Reversed string:\", reversed_string)\n"
      ]
    },
    {
      "cell_type": "code",
      "source": [],
      "metadata": {
        "id": "JjlO3Ehzn17r"
      },
      "execution_count": null,
      "outputs": []
    },
    {
      "cell_type": "markdown",
      "source": [
        "2. Implement a function to check if a given string is a palindrome."
      ],
      "metadata": {
        "id": "tNMhZLg4nzQ3"
      }
    },
    {
      "cell_type": "code",
      "source": [
        "def is_palindrome(string):\n",
        "    # Remove whitespace and convert to lowercase\n",
        "    string = string.replace(\" \", \"\").lower()\n",
        "    # Reverse the string\n",
        "    reversed_string = string[::-1]\n",
        "    # Compare the original string with the reversed string\n",
        "    if string == reversed_string:\n",
        "        return True\n",
        "    else:\n",
        "        return False\n",
        "\n",
        "#Example\n",
        "input_string = \"jalaj\"\n",
        "result = is_palindrome(input_string)\n",
        "print(result)\n"
      ],
      "metadata": {
        "colab": {
          "base_uri": "https://localhost:8080/"
        },
        "id": "5q7g1ZkNn0Ry",
        "outputId": "77f8b218-0afa-43e4-8d85-242e85906b61"
      },
      "execution_count": null,
      "outputs": [
        {
          "output_type": "stream",
          "name": "stdout",
          "text": [
            "True\n"
          ]
        }
      ]
    },
    {
      "cell_type": "code",
      "source": [],
      "metadata": {
        "id": "YhrlcfqwpDNo"
      },
      "execution_count": null,
      "outputs": []
    },
    {
      "cell_type": "markdown",
      "source": [
        "3. Write a program to find the largest element in a given list."
      ],
      "metadata": {
        "id": "fjFVe9fpn92d"
      }
    },
    {
      "cell_type": "code",
      "source": [
        "def find_largest_element(lst):\n",
        "    if len(lst) == 0:\n",
        "        print(\"List is empty.\")\n",
        "        return None\n",
        "\n",
        "    largest = lst[0]\n",
        "    for num in lst:\n",
        "        if num > largest:\n",
        "            largest = num\n",
        "\n",
        "    return largest\n",
        "\n",
        "# Example\n",
        "input_list = [10, 5, 20, 15, 30]\n",
        "largest_element = find_largest_element(input_list)\n",
        "print(\"Largest element:\", largest_element)\n"
      ],
      "metadata": {
        "colab": {
          "base_uri": "https://localhost:8080/"
        },
        "id": "QQ7ykO8qn-vA",
        "outputId": "5ef2968f-a0b4-400c-a018-afa11f061b5e"
      },
      "execution_count": null,
      "outputs": [
        {
          "output_type": "stream",
          "name": "stdout",
          "text": [
            "Largest element: 30\n"
          ]
        }
      ]
    },
    {
      "cell_type": "code",
      "source": [],
      "metadata": {
        "id": "3N8UGrpyohUg"
      },
      "execution_count": null,
      "outputs": []
    },
    {
      "cell_type": "markdown",
      "source": [
        "4. Implement a function to count the occurrence of each element in a list."
      ],
      "metadata": {
        "id": "9dN4ZRv_ok7z"
      }
    },
    {
      "cell_type": "code",
      "source": [
        "def count_occurrences(lst):\n",
        "    occurrence_count = {}\n",
        "    for element in lst:\n",
        "        if element in occurrence_count:\n",
        "            occurrence_count[element] += 1\n",
        "        else:\n",
        "            occurrence_count[element] = 1\n",
        "    return occurrence_count\n",
        "\n",
        "# Example\n",
        "input_list = [1, 2, 3, 2, 4, 1, 5, 1]\n",
        "occurrence_count = count_occurrences(input_list)\n",
        "print(\"Occurrence count:\", occurrence_count)\n"
      ],
      "metadata": {
        "colab": {
          "base_uri": "https://localhost:8080/"
        },
        "id": "5oZLmHsXolng",
        "outputId": "e1ad1c45-5280-4314-e00c-ceb859e7cf49"
      },
      "execution_count": null,
      "outputs": [
        {
          "output_type": "stream",
          "name": "stdout",
          "text": [
            "Occurrence count: {1: 3, 2: 2, 3: 1, 4: 1, 5: 1}\n"
          ]
        }
      ]
    },
    {
      "cell_type": "code",
      "source": [],
      "metadata": {
        "id": "EDkm8D94o7ZJ"
      },
      "execution_count": null,
      "outputs": []
    },
    {
      "cell_type": "markdown",
      "source": [
        "5. Write a Python program to find the second largest number in a list."
      ],
      "metadata": {
        "id": "PLpwLyAyo99C"
      }
    },
    {
      "cell_type": "code",
      "source": [
        "def find_second_largest(lst):\n",
        "    if len(lst) < 2:\n",
        "        print(\"List should have at least two elements.\")\n",
        "        return None\n",
        "\n",
        "    largest = max(lst[0], lst[1])\n",
        "    second_largest = min(lst[0], lst[1])\n",
        "\n",
        "    for i in range(2, len(lst)):\n",
        "        if lst[i] > largest:\n",
        "            second_largest = largest\n",
        "            largest = lst[i]\n",
        "        elif lst[i] > second_largest:\n",
        "            second_largest = lst[i]\n",
        "\n",
        "    return second_largest\n",
        "\n",
        "# Example\n",
        "input_list = [10, 5, 20, 15, 30]\n",
        "second_largest = find_second_largest(input_list)\n",
        "print(\"Second largest number:\", second_largest)\n"
      ],
      "metadata": {
        "colab": {
          "base_uri": "https://localhost:8080/"
        },
        "id": "a_3X_01ApBlF",
        "outputId": "2bda08a9-e4f4-4296-fe8e-a29d4cdaaa41"
      },
      "execution_count": null,
      "outputs": [
        {
          "output_type": "stream",
          "name": "stdout",
          "text": [
            "Second largest number: 20\n"
          ]
        }
      ]
    },
    {
      "cell_type": "code",
      "source": [],
      "metadata": {
        "id": "mDTZdjIfpbVj"
      },
      "execution_count": null,
      "outputs": []
    },
    {
      "cell_type": "markdown",
      "source": [
        "6. Implement a function to remove duplicate elements from a list."
      ],
      "metadata": {
        "id": "IKYcRCEwpdbO"
      }
    },
    {
      "cell_type": "code",
      "source": [
        "def remove_duplicates(lst):\n",
        "    return list(set(lst))\n",
        "\n",
        "# Example\n",
        "input_list = [1, 2, 3, 2, 4, 1, 5, 1]\n",
        "result = remove_duplicates(input_list)\n",
        "print(\"List without duplicates:\", result)\n"
      ],
      "metadata": {
        "colab": {
          "base_uri": "https://localhost:8080/"
        },
        "id": "irM4ZcdjpgUA",
        "outputId": "07fd5fcb-e9d8-4270-9b9a-65a3b05c886c"
      },
      "execution_count": null,
      "outputs": [
        {
          "output_type": "stream",
          "name": "stdout",
          "text": [
            "List without duplicates: [1, 2, 3, 4, 5]\n"
          ]
        }
      ]
    },
    {
      "cell_type": "code",
      "source": [
        "input_list = [11, 22, 33, 23, 22, 43]\n",
        "result = remove_duplicates(input_list)\n",
        "print(\"List without duplicates:\", result)"
      ],
      "metadata": {
        "colab": {
          "base_uri": "https://localhost:8080/"
        },
        "id": "dU5ELjM-qgkz",
        "outputId": "40798877-0b2f-4453-ebcd-2c2ec9ee7fe5"
      },
      "execution_count": null,
      "outputs": [
        {
          "output_type": "stream",
          "name": "stdout",
          "text": [
            "List without duplicates: [33, 11, 43, 22, 23]\n"
          ]
        }
      ]
    },
    {
      "cell_type": "code",
      "source": [],
      "metadata": {
        "id": "bfYBQsIzprG9"
      },
      "execution_count": null,
      "outputs": []
    },
    {
      "cell_type": "markdown",
      "source": [
        "7. Write a program to calculate the factorial of a given number."
      ],
      "metadata": {
        "id": "rp6NL7Oeps5w"
      }
    },
    {
      "cell_type": "code",
      "source": [
        "def calculate_factorial(n):\n",
        "    if n < 0:\n",
        "        print(\"Factorial is not defined for negative numbers.\")\n",
        "        return None\n",
        "\n",
        "    factorial = 1\n",
        "    for i in range(1, n + 1):\n",
        "        factorial *= i\n",
        "\n",
        "    return factorial\n",
        "\n",
        "# Example\n",
        "number = 5\n",
        "factorial = calculate_factorial(number)\n",
        "print(\"Factorial of\", number, \"is\", factorial)\n"
      ],
      "metadata": {
        "colab": {
          "base_uri": "https://localhost:8080/"
        },
        "id": "i1CGXGnApvtz",
        "outputId": "0893011e-cd7c-491e-e828-155fc4c4e0a6"
      },
      "execution_count": null,
      "outputs": [
        {
          "output_type": "stream",
          "name": "stdout",
          "text": [
            "Factorial of 5 is 120\n"
          ]
        }
      ]
    },
    {
      "cell_type": "code",
      "source": [],
      "metadata": {
        "id": "SBnbORTtp7C0"
      },
      "execution_count": null,
      "outputs": []
    },
    {
      "cell_type": "markdown",
      "source": [
        "8. Implement a function to check if a given number is prime."
      ],
      "metadata": {
        "id": "iTxYOIJiqAY4"
      }
    },
    {
      "cell_type": "code",
      "source": [
        "def is_prime(number):\n",
        "    if number <= 1:\n",
        "        return False\n",
        "\n",
        "    for i in range(2, int(number**0.5) + 1):\n",
        "        if number % i == 0:\n",
        "            return False\n",
        "\n",
        "    return True\n",
        "\n",
        "# Example\n",
        "number = 17\n",
        "if is_prime(number):\n",
        "    print(number, \"is prime.\")\n",
        "else:\n",
        "    print(number, \"is not prime.\")\n"
      ],
      "metadata": {
        "colab": {
          "base_uri": "https://localhost:8080/"
        },
        "id": "q77CYhc1qBWG",
        "outputId": "f110da08-3925-40db-c21c-e837880f8fd4"
      },
      "execution_count": null,
      "outputs": [
        {
          "output_type": "stream",
          "name": "stdout",
          "text": [
            "17 is prime.\n"
          ]
        }
      ]
    },
    {
      "cell_type": "code",
      "source": [
        "number = 15\n",
        "if is_prime(number):\n",
        "    print(number, \"is prime.\")\n",
        "else:\n",
        "    print(number, \"is not prime.\")"
      ],
      "metadata": {
        "colab": {
          "base_uri": "https://localhost:8080/"
        },
        "id": "T3DdLht5qV8a",
        "outputId": "a16221a0-07b8-41cc-8eec-0ae49e43cd6d"
      },
      "execution_count": null,
      "outputs": [
        {
          "output_type": "stream",
          "name": "stdout",
          "text": [
            "15 is not prime.\n"
          ]
        }
      ]
    },
    {
      "cell_type": "code",
      "source": [],
      "metadata": {
        "id": "OfIiN1rLqabA"
      },
      "execution_count": null,
      "outputs": []
    },
    {
      "cell_type": "markdown",
      "source": [
        "9. Write a Python program to sort a list of integers in ascending order."
      ],
      "metadata": {
        "id": "zIqbYzZ-qxhx"
      }
    },
    {
      "cell_type": "code",
      "source": [
        "def sort_list(lst):\n",
        "    sorted_lst = sorted(lst)\n",
        "    return sorted_lst\n",
        "\n",
        "# Example\n",
        "input_list = [5, 2, 8, 1, 9, 3]\n",
        "sorted_list = sort_list(input_list)\n",
        "print(\"Sorted list:\", sorted_list)\n"
      ],
      "metadata": {
        "colab": {
          "base_uri": "https://localhost:8080/"
        },
        "id": "XxocLFhiq0P1",
        "outputId": "05a5719f-5eb7-4d37-c284-855cbfdf6882"
      },
      "execution_count": null,
      "outputs": [
        {
          "output_type": "stream",
          "name": "stdout",
          "text": [
            "Sorted list: [1, 2, 3, 5, 8, 9]\n"
          ]
        }
      ]
    },
    {
      "cell_type": "code",
      "source": [],
      "metadata": {
        "id": "xytYDUMOq77l"
      },
      "execution_count": null,
      "outputs": []
    },
    {
      "cell_type": "markdown",
      "source": [
        "10. Implement a function to find the sum of all numbers in a list."
      ],
      "metadata": {
        "id": "Td9MhWJhq92b"
      }
    },
    {
      "cell_type": "code",
      "source": [
        "def calculate_sum(lst):\n",
        "    total = sum(lst)\n",
        "    return total\n",
        "\n",
        "# Example\n",
        "input_list = [1, 2, 3, 4, 5]\n",
        "sum_of_numbers = calculate_sum(input_list)\n",
        "print(\"Sum of numbers:\", sum_of_numbers)\n"
      ],
      "metadata": {
        "colab": {
          "base_uri": "https://localhost:8080/"
        },
        "id": "ASW5pO0lrA1B",
        "outputId": "064e2673-dafc-49e9-f323-f7c9a377c63e"
      },
      "execution_count": null,
      "outputs": [
        {
          "output_type": "stream",
          "name": "stdout",
          "text": [
            "Sum of numbers: 15\n"
          ]
        }
      ]
    },
    {
      "cell_type": "code",
      "source": [],
      "metadata": {
        "id": "6FniyfdbrN0S"
      },
      "execution_count": null,
      "outputs": []
    },
    {
      "cell_type": "markdown",
      "source": [
        "11. Write a program to find the common elements between two lists."
      ],
      "metadata": {
        "id": "SxFd9wB5rO_M"
      }
    },
    {
      "cell_type": "code",
      "source": [
        "def find_common_elements(list1, list2):\n",
        "    common_elements = set(list1) & set(list2)\n",
        "    return list(common_elements)\n",
        "\n",
        "# Example\n",
        "list1 = [1, 2, 3, 4, 5]\n",
        "list2 = [4, 5, 6, 7, 8]\n",
        "common_elements = find_common_elements(list1, list2)\n",
        "print(\"Common elements:\", common_elements)\n"
      ],
      "metadata": {
        "colab": {
          "base_uri": "https://localhost:8080/"
        },
        "id": "xVCg61ACrTZf",
        "outputId": "5a54e520-1755-4455-dce3-473741b735fb"
      },
      "execution_count": null,
      "outputs": [
        {
          "output_type": "stream",
          "name": "stdout",
          "text": [
            "Common elements: [4, 5]\n"
          ]
        }
      ]
    },
    {
      "cell_type": "code",
      "source": [],
      "metadata": {
        "id": "ot8EfcFTriLS"
      },
      "execution_count": null,
      "outputs": []
    },
    {
      "cell_type": "markdown",
      "source": [
        "12. Implement a function to check if a given string is an anagram of another string."
      ],
      "metadata": {
        "id": "1AO0TKUYrjHG"
      }
    },
    {
      "cell_type": "code",
      "source": [
        "def is_anagram(str1, str2):\n",
        "    # Convert strings to lowercase and remove whitespace\n",
        "    str1 = str1.lower().replace(\" \", \"\")\n",
        "    str2 = str2.lower().replace(\" \", \"\")\n",
        "\n",
        "    # Check if the lengths of the strings are equal\n",
        "    if len(str1) != len(str2):\n",
        "        return False\n",
        "\n",
        "    # Sort the characters of the strings\n",
        "    sorted_str1 = sorted(str1)\n",
        "    sorted_str2 = sorted(str2)\n",
        "\n",
        "    # Compare the sorted strings\n",
        "    if sorted_str1 == sorted_str2:\n",
        "        return True\n",
        "    else:\n",
        "        return False\n",
        "\n",
        "# Example\n",
        "string1 = \"listen\"\n",
        "string2 = \"silent\"\n",
        "if is_anagram(string1, string2):\n",
        "    print(string1, \"and\", string2, \"are anagrams.\")\n",
        "else:\n",
        "    print(string1, \"and\", string2, \"are not anagrams.\")\n"
      ],
      "metadata": {
        "colab": {
          "base_uri": "https://localhost:8080/"
        },
        "id": "KpFWyQvdrl7J",
        "outputId": "e380769a-c858-4eee-916d-8dafebf24bdc"
      },
      "execution_count": null,
      "outputs": [
        {
          "output_type": "stream",
          "name": "stdout",
          "text": [
            "listen and silent are anagrams.\n"
          ]
        }
      ]
    },
    {
      "cell_type": "code",
      "source": [
        "string1 = \"fan\"\n",
        "string2 = \"ant\"\n",
        "if is_anagram(string1, string2):\n",
        "    print(string1, \"and\", string2, \"are anagrams.\")\n",
        "else:\n",
        "    print(string1, \"and\", string2, \"are not anagrams.\")"
      ],
      "metadata": {
        "colab": {
          "base_uri": "https://localhost:8080/"
        },
        "id": "bZF1BAK7r67P",
        "outputId": "71b242c1-2386-4a49-d60c-e8e52a5f566d"
      },
      "execution_count": null,
      "outputs": [
        {
          "output_type": "stream",
          "name": "stdout",
          "text": [
            "fan and ant are not anagrams.\n"
          ]
        }
      ]
    },
    {
      "cell_type": "code",
      "source": [],
      "metadata": {
        "id": "EhUuZTXxsD1v"
      },
      "execution_count": null,
      "outputs": []
    },
    {
      "cell_type": "markdown",
      "source": [
        "13. Write a Python program to generate all permutations of a given string."
      ],
      "metadata": {
        "id": "aCJjikmqsF3I"
      }
    },
    {
      "cell_type": "code",
      "source": [
        "def generate_permutations(string):\n",
        "    if len(string) == 0:\n",
        "        return []\n",
        "\n",
        "    if len(string) == 1:\n",
        "        return [string]\n",
        "\n",
        "    permutations = []  # List to store permutations\n",
        "\n",
        "    for i in range(len(string)):\n",
        "        char = string[i]\n",
        "        remaining_chars = string[:i] + string[i+1:]\n",
        "\n",
        "        # Recursive call to generate permutations of the remaining characters\n",
        "        for perm in generate_permutations(remaining_chars):\n",
        "            permutations.append(char + perm)\n",
        "\n",
        "    return permutations\n",
        "\n",
        "# Example\n",
        "input_string = \"abc\"\n",
        "permutations = generate_permutations(input_string)\n",
        "print(\"Permutations:\", permutations)\n"
      ],
      "metadata": {
        "colab": {
          "base_uri": "https://localhost:8080/"
        },
        "id": "HxQNF_JEsXSt",
        "outputId": "ca50d382-4396-48d7-8287-b25d300232f4"
      },
      "execution_count": null,
      "outputs": [
        {
          "output_type": "stream",
          "name": "stdout",
          "text": [
            "Permutations: ['abc', 'acb', 'bac', 'bca', 'cab', 'cba']\n"
          ]
        }
      ]
    },
    {
      "cell_type": "code",
      "source": [],
      "metadata": {
        "id": "PXHbjUk6sl5Z"
      },
      "execution_count": null,
      "outputs": []
    },
    {
      "cell_type": "markdown",
      "source": [
        "14. Implement a function to calculate the Fibonacci sequence up to a given number of terms."
      ],
      "metadata": {
        "id": "VhyRkAdLsnZU"
      }
    },
    {
      "cell_type": "code",
      "source": [
        "def calculate_fibonacci(n):\n",
        "    fibonacci_sequence = []\n",
        "    a, b = 0, 1\n",
        "\n",
        "    for _ in range(n):\n",
        "        fibonacci_sequence.append(a)\n",
        "        a, b = b, a + b\n",
        "\n",
        "    return fibonacci_sequence\n",
        "\n",
        "# Example\n",
        "num_terms = 10\n",
        "fibonacci_sequence = calculate_fibonacci(num_terms)\n",
        "print(\"Fibonacci sequence:\", fibonacci_sequence)\n"
      ],
      "metadata": {
        "colab": {
          "base_uri": "https://localhost:8080/"
        },
        "id": "p9DZF_M5sqzL",
        "outputId": "7aae6c82-3431-49b0-f8c0-22517d6d734f"
      },
      "execution_count": null,
      "outputs": [
        {
          "output_type": "stream",
          "name": "stdout",
          "text": [
            "Fibonacci sequence: [0, 1, 1, 2, 3, 5, 8, 13, 21, 34]\n"
          ]
        }
      ]
    },
    {
      "cell_type": "code",
      "source": [],
      "metadata": {
        "id": "NNUKRTZ8s6Dw"
      },
      "execution_count": null,
      "outputs": []
    },
    {
      "cell_type": "markdown",
      "source": [
        "15. Write a program to find the median of a list of numbers."
      ],
      "metadata": {
        "id": "Y_rNmqXos8lt"
      }
    },
    {
      "cell_type": "code",
      "source": [
        "def find_median(numbers):\n",
        "    sorted_numbers = sorted(numbers)\n",
        "    length = len(sorted_numbers)\n",
        "\n",
        "    if length % 2 == 0:\n",
        "        mid1 = length // 2\n",
        "        mid2 = mid1 - 1\n",
        "        median = (sorted_numbers[mid1] + sorted_numbers[mid2]) / 2\n",
        "    else:\n",
        "        mid = length // 2\n",
        "        median = sorted_numbers[mid]\n",
        "\n",
        "    return median\n",
        "\n",
        "# Example\n",
        "data = [7, 3, 1, 5, 9, 2, 8, 6, 4]\n",
        "median_value = find_median(data)\n",
        "print(\"Median:\", median_value)\n"
      ],
      "metadata": {
        "colab": {
          "base_uri": "https://localhost:8080/"
        },
        "id": "qPBHOyCZs_yB",
        "outputId": "e5a82fde-b28e-4a64-ab83-8f809616800a"
      },
      "execution_count": null,
      "outputs": [
        {
          "output_type": "stream",
          "name": "stdout",
          "text": [
            "Median: 5\n"
          ]
        }
      ]
    },
    {
      "cell_type": "code",
      "source": [],
      "metadata": {
        "id": "JqxnTBcBtpH3"
      },
      "execution_count": null,
      "outputs": []
    },
    {
      "cell_type": "markdown",
      "source": [
        "16. Implement a function to check if a given list is sorted in non-decreasing order."
      ],
      "metadata": {
        "id": "YFr66Vp8tskO"
      }
    },
    {
      "cell_type": "code",
      "source": [
        "def is_sorted(lst):\n",
        "    for i in range(len(lst) - 1):\n",
        "        if lst[i] > lst[i + 1]:\n",
        "            return False\n",
        "    return True\n",
        "\n",
        "# Example\n",
        "input_list = [1, 2, 3, 4, 5]\n",
        "if is_sorted(input_list):\n",
        "    print(\"The list is sorted in non-decreasing order.\")\n",
        "else:\n",
        "    print(\"The list is not sorted in non-decreasing order.\")\n"
      ],
      "metadata": {
        "colab": {
          "base_uri": "https://localhost:8080/"
        },
        "id": "gKIyLB6RuMkW",
        "outputId": "75d443c3-2ae3-4e07-8847-56d87024e385"
      },
      "execution_count": null,
      "outputs": [
        {
          "output_type": "stream",
          "name": "stdout",
          "text": [
            "The list is sorted in non-decreasing order.\n"
          ]
        }
      ]
    },
    {
      "cell_type": "code",
      "source": [],
      "metadata": {
        "id": "qULAUSrbudx8"
      },
      "execution_count": null,
      "outputs": []
    },
    {
      "cell_type": "markdown",
      "source": [
        "17. Write a Python program to find the intersection of two lists."
      ],
      "metadata": {
        "id": "gwDkm7FDw-Ee"
      }
    },
    {
      "cell_type": "code",
      "source": [
        "def find_intersection(list1, list2):\n",
        "    set1 = set(list1)\n",
        "    set2 = set(list2)\n",
        "    intersection = set1.intersection(set2)\n",
        "    return list(intersection)\n",
        "\n",
        "# Example\n",
        "list1 = [1, 2, 3, 4, 5]\n",
        "list2 = [4, 5, 6, 7, 8]\n",
        "intersection = find_intersection(list1, list2)\n",
        "print(\"Intersection:\", intersection)\n"
      ],
      "metadata": {
        "colab": {
          "base_uri": "https://localhost:8080/"
        },
        "id": "LJKFAPixxBVM",
        "outputId": "8455b4cf-65c7-432b-a33d-3344ead21b79"
      },
      "execution_count": null,
      "outputs": [
        {
          "output_type": "stream",
          "name": "stdout",
          "text": [
            "Intersection: [4, 5]\n"
          ]
        }
      ]
    },
    {
      "cell_type": "code",
      "source": [],
      "metadata": {
        "id": "PdMQB64fxJF8"
      },
      "execution_count": null,
      "outputs": []
    },
    {
      "cell_type": "markdown",
      "source": [
        "18. Implement a function to find the maximum subarray sum in a given list"
      ],
      "metadata": {
        "id": "9T9tvH4BxKN8"
      }
    },
    {
      "cell_type": "code",
      "source": [
        "def find_maximum_subarray_sum(nums):\n",
        "    current_sum = 0\n",
        "    max_sum = float('-inf')\n",
        "\n",
        "    for num in nums:\n",
        "        current_sum = max(num, current_sum + num)\n",
        "        max_sum = max(max_sum, current_sum)\n",
        "\n",
        "    return max_sum\n",
        "\n",
        "# Example\n",
        "data = [-2, 1, -3, 4, -1, 2, 1, -5, 4]\n",
        "max_subarray_sum = find_maximum_subarray_sum(data)\n",
        "print(\"Maximum subarray sum:\", max_subarray_sum)\n"
      ],
      "metadata": {
        "colab": {
          "base_uri": "https://localhost:8080/"
        },
        "id": "7VAXRNQpxMt9",
        "outputId": "d8eefff5-0ee0-447a-a8d8-2a7cee69d36f"
      },
      "execution_count": null,
      "outputs": [
        {
          "output_type": "stream",
          "name": "stdout",
          "text": [
            "Maximum subarray sum: 6\n"
          ]
        }
      ]
    },
    {
      "cell_type": "code",
      "source": [],
      "metadata": {
        "id": "lNvsNqUAx0Xc"
      },
      "execution_count": null,
      "outputs": []
    },
    {
      "cell_type": "markdown",
      "source": [
        "19. Write a program to remove all vowels from a given string."
      ],
      "metadata": {
        "id": "Ir9uczX4yDX5"
      }
    },
    {
      "cell_type": "code",
      "source": [
        "def remove_vowels(string):\n",
        "    vowels = 'aeiouAEIOU'\n",
        "    result = ''\n",
        "\n",
        "    for char in string:\n",
        "        if char not in vowels:\n",
        "            result += char\n",
        "\n",
        "    return result\n",
        "\n",
        "# Example\n",
        "input_string = \"Hello, World!\"\n",
        "result_string = remove_vowels(input_string)\n",
        "print(\"Result:\", result_string)\n"
      ],
      "metadata": {
        "colab": {
          "base_uri": "https://localhost:8080/"
        },
        "id": "yictXMEeyGkV",
        "outputId": "3425e0be-69a8-413c-987f-f8d728340e85"
      },
      "execution_count": null,
      "outputs": [
        {
          "output_type": "stream",
          "name": "stdout",
          "text": [
            "Result: Hll, Wrld!\n"
          ]
        }
      ]
    },
    {
      "cell_type": "code",
      "source": [],
      "metadata": {
        "id": "HyWRsAGtyV0v"
      },
      "execution_count": null,
      "outputs": []
    },
    {
      "cell_type": "markdown",
      "source": [
        "20. Implement a function to reverse the order of words in a given sentence."
      ],
      "metadata": {
        "id": "stYoRY0ZyYUu"
      }
    },
    {
      "cell_type": "code",
      "source": [
        "def reverse_words(sentence):\n",
        "    words = sentence.split()\n",
        "    reversed_sentence = ' '.join(reversed(words))\n",
        "    return reversed_sentence\n",
        "\n",
        "# Example\n",
        "input_sentence = \"Hello, world! I am Preeti.\"\n",
        "reversed_sentence = reverse_words(input_sentence)\n",
        "print(\"Reversed sentence:\", reversed_sentence)\n"
      ],
      "metadata": {
        "colab": {
          "base_uri": "https://localhost:8080/"
        },
        "id": "1mc8eWm9ybJj",
        "outputId": "625670d1-721f-411e-b94e-03fc6c0b4979"
      },
      "execution_count": null,
      "outputs": [
        {
          "output_type": "stream",
          "name": "stdout",
          "text": [
            "Reversed sentence: Preeti. am I world! Hello,\n"
          ]
        }
      ]
    },
    {
      "cell_type": "code",
      "source": [],
      "metadata": {
        "id": "k4PUPJtwyvi5"
      },
      "execution_count": null,
      "outputs": []
    },
    {
      "cell_type": "markdown",
      "source": [
        "21. Write a Python program to check if two strings are anagrams of each other."
      ],
      "metadata": {
        "id": "5qQsvROiy0Yg"
      }
    },
    {
      "cell_type": "code",
      "source": [
        "def are_anagrams(str1, str2):\n",
        "    # Remove whitespace and convert to lowercase\n",
        "    str1 = str1.replace(\" \", \"\").lower()\n",
        "    str2 = str2.replace(\" \", \"\").lower()\n",
        "\n",
        "    # Check if the sorted characters of both strings are equal\n",
        "    return sorted(str1) == sorted(str2)\n",
        "\n",
        "# Example\n",
        "string1 = \"listen\"\n",
        "string2 = \"silent\"\n",
        "if are_anagrams(string1, string2):\n",
        "    print(\"The strings are anagrams.\")\n",
        "else:\n",
        "    print(\"The strings are not anagrams.\")\n"
      ],
      "metadata": {
        "colab": {
          "base_uri": "https://localhost:8080/"
        },
        "id": "nJqB6_5hy3Q0",
        "outputId": "c5eed7e9-2bca-48f4-aa0a-cf501473331d"
      },
      "execution_count": null,
      "outputs": [
        {
          "output_type": "stream",
          "name": "stdout",
          "text": [
            "The strings are anagrams.\n"
          ]
        }
      ]
    },
    {
      "cell_type": "code",
      "source": [],
      "metadata": {
        "id": "sMxsf0U5zZhB"
      },
      "execution_count": null,
      "outputs": []
    },
    {
      "cell_type": "markdown",
      "source": [
        "22. Implement a function to find the first non-repeating character in a string."
      ],
      "metadata": {
        "id": "jAsNHR8yzY4j"
      }
    },
    {
      "cell_type": "code",
      "source": [
        "def find_first_non_repeating_character(string):\n",
        "    char_counts = {}\n",
        "\n",
        "    # Count the occurrences of each character\n",
        "    for char in string:\n",
        "        if char in char_counts:\n",
        "            char_counts[char] += 1\n",
        "        else:\n",
        "            char_counts[char] = 1\n",
        "\n",
        "    # Find the first non-repeating character\n",
        "    for char in string:\n",
        "        if char_counts[char] == 1:\n",
        "            return char\n",
        "\n",
        "    # If no non-repeating character is found, return None\n",
        "    return None\n",
        "\n",
        "# Example\n",
        "input_string = \"abacabad\"\n",
        "first_non_repeating_char = find_first_non_repeating_character(input_string)\n",
        "if first_non_repeating_char:\n",
        "    print(\"First non-repeating character:\", first_non_repeating_char)\n",
        "else:\n",
        "    print(\"No non-repeating character found.\")\n"
      ],
      "metadata": {
        "colab": {
          "base_uri": "https://localhost:8080/"
        },
        "id": "C-fb_XEAzcpD",
        "outputId": "cec0cce7-830d-4fe4-daac-79660beaf826"
      },
      "execution_count": null,
      "outputs": [
        {
          "output_type": "stream",
          "name": "stdout",
          "text": [
            "First non-repeating character: c\n"
          ]
        }
      ]
    },
    {
      "cell_type": "code",
      "source": [],
      "metadata": {
        "id": "cdBF8f17zuEP"
      },
      "execution_count": null,
      "outputs": []
    },
    {
      "cell_type": "markdown",
      "source": [
        "23. Write a program to find the prime factors of a given number."
      ],
      "metadata": {
        "id": "JQCho6_vzxvo"
      }
    },
    {
      "cell_type": "code",
      "source": [
        "def find_prime_factors(number):\n",
        "    prime_factors = []\n",
        "\n",
        "    # Check for divisibility by 2\n",
        "    while number % 2 == 0:\n",
        "        prime_factors.append(2)\n",
        "        number //= 2\n",
        "\n",
        "    # Check for divisibility by odd numbers\n",
        "    divisor = 3\n",
        "    while divisor * divisor <= number:\n",
        "        if number % divisor == 0:\n",
        "            prime_factors.append(divisor)\n",
        "            number //= divisor\n",
        "        else:\n",
        "            divisor += 2\n",
        "\n",
        "    # If number is prime, add it as a prime factor\n",
        "    if number > 1:\n",
        "        prime_factors.append(number)\n",
        "\n",
        "    return prime_factors\n",
        "\n",
        "# Example\n",
        "num = 84\n",
        "prime_factors = find_prime_factors(num)\n",
        "print(\"Prime factors of\", num, \"are:\", prime_factors)\n"
      ],
      "metadata": {
        "colab": {
          "base_uri": "https://localhost:8080/"
        },
        "id": "dbDMud0sz0kg",
        "outputId": "76a734e0-26d9-49e6-bdeb-901bc881b3bd"
      },
      "execution_count": null,
      "outputs": [
        {
          "output_type": "stream",
          "name": "stdout",
          "text": [
            "Prime factors of 84 are: [2, 2, 3, 7]\n"
          ]
        }
      ]
    },
    {
      "cell_type": "code",
      "source": [],
      "metadata": {
        "id": "yBYm8kkg0FWR"
      },
      "execution_count": null,
      "outputs": []
    },
    {
      "cell_type": "markdown",
      "source": [
        "24. Implement a function to check if a given number is a power of two."
      ],
      "metadata": {
        "id": "hUbj4u7H0Iit"
      }
    },
    {
      "cell_type": "code",
      "source": [
        "def is_power_of_two(number):\n",
        "    if number <= 0:\n",
        "        return False\n",
        "    else:\n",
        "        return (number & (number - 1)) == 0\n",
        "\n",
        "# Example\n",
        "num1 = 16\n",
        "num2 = 15\n",
        "\n",
        "if is_power_of_two(num1):\n",
        "    print(num1, \"is a power of two.\")\n",
        "else:\n",
        "    print(num1, \"is not a power of two.\")\n",
        "\n",
        "if is_power_of_two(num2):\n",
        "    print(num2, \"is a power of two.\")\n",
        "else:\n",
        "    print(num2, \"is not a power of two.\")\n"
      ],
      "metadata": {
        "colab": {
          "base_uri": "https://localhost:8080/"
        },
        "id": "cdPO7JXP0LWs",
        "outputId": "188f7e0d-1020-4210-c938-1165864591de"
      },
      "execution_count": null,
      "outputs": [
        {
          "output_type": "stream",
          "name": "stdout",
          "text": [
            "16 is a power of two.\n",
            "15 is not a power of two.\n"
          ]
        }
      ]
    },
    {
      "cell_type": "code",
      "source": [],
      "metadata": {
        "id": "_k6r8dm_0uvr"
      },
      "execution_count": null,
      "outputs": []
    },
    {
      "cell_type": "markdown",
      "source": [
        "25. Write a Python program to merge two sorted lists into a single sorted list."
      ],
      "metadata": {
        "id": "yUedZMRo0xoZ"
      }
    },
    {
      "cell_type": "code",
      "source": [
        "def merge_sorted_lists(list1, list2):\n",
        "    merged_list = []\n",
        "    i = 0  # Index for list1\n",
        "    j = 0  # Index for list2\n",
        "\n",
        "    # Merge the two lists until one of them is exhausted\n",
        "    while i < len(list1) and j < len(list2):\n",
        "        if list1[i] <= list2[j]:\n",
        "            merged_list.append(list1[i])\n",
        "            i += 1\n",
        "        else:\n",
        "            merged_list.append(list2[j])\n",
        "            j += 1\n",
        "\n",
        "    # Append any remaining elements from list1\n",
        "    while i < len(list1):\n",
        "        merged_list.append(list1[i])\n",
        "        i += 1\n",
        "\n",
        "    # Append any remaining elements from list2\n",
        "    while j < len(list2):\n",
        "        merged_list.append(list2[j])\n",
        "        j += 1\n",
        "\n",
        "    return merged_list\n",
        "\n",
        "# Example\n",
        "sorted_list1 = [1, 3, 5, 7, 9]\n",
        "sorted_list2 = [2, 4, 6, 8, 10]\n",
        "merged_list = merge_sorted_lists(sorted_list1, sorted_list2)\n",
        "print(\"Merged list:\", merged_list)\n"
      ],
      "metadata": {
        "colab": {
          "base_uri": "https://localhost:8080/"
        },
        "id": "6OKtRDm100M6",
        "outputId": "c30cc77d-828b-4113-d238-b659329c37c7"
      },
      "execution_count": null,
      "outputs": [
        {
          "output_type": "stream",
          "name": "stdout",
          "text": [
            "Merged list: [1, 2, 3, 4, 5, 6, 7, 8, 9, 10]\n"
          ]
        }
      ]
    },
    {
      "cell_type": "code",
      "source": [],
      "metadata": {
        "id": "l_3zz5Ec0_d3"
      },
      "execution_count": null,
      "outputs": []
    },
    {
      "cell_type": "markdown",
      "source": [
        "26. Implement a function to find the mode of a list of numbers."
      ],
      "metadata": {
        "id": "bNl9pUjN1GpB"
      }
    },
    {
      "cell_type": "code",
      "source": [
        "from collections import Counter\n",
        "\n",
        "def find_mode(numbers):\n",
        "    counts = Counter(numbers)\n",
        "    mode_count = max(counts.values())\n",
        "\n",
        "    modes = [number for number, count in counts.items() if count == mode_count]\n",
        "\n",
        "    return modes\n",
        "\n",
        "# Example\n",
        "data = [1, 2, 2, 3, 3, 3, 4, 4, 4, 4]\n",
        "modes = find_mode(data)\n",
        "print(\"Mode :\", modes)\n"
      ],
      "metadata": {
        "colab": {
          "base_uri": "https://localhost:8080/"
        },
        "id": "OyKYsdfZ1KHI",
        "outputId": "4a7058a9-7525-422d-ef41-8f5e8143fac4"
      },
      "execution_count": null,
      "outputs": [
        {
          "output_type": "stream",
          "name": "stdout",
          "text": [
            "Mode : [4]\n"
          ]
        }
      ]
    },
    {
      "cell_type": "code",
      "source": [],
      "metadata": {
        "id": "Op0zFMlN1UzD"
      },
      "execution_count": null,
      "outputs": []
    },
    {
      "cell_type": "markdown",
      "source": [
        "27. Write a program to find the greatest common divisor (GCD) of two numbers."
      ],
      "metadata": {
        "id": "sP-6XTnX1gPU"
      }
    },
    {
      "cell_type": "code",
      "source": [
        "def find_gcd(a, b):\n",
        "    while b != 0:\n",
        "        a, b = b, a % b\n",
        "    return a\n",
        "\n",
        "# Example\n",
        "num1 = 36\n",
        "num2 = 48\n",
        "gcd = find_gcd(num1, num2)\n",
        "print(\"GCD of\", num1, \"and\", num2, \"is:\", gcd)\n"
      ],
      "metadata": {
        "colab": {
          "base_uri": "https://localhost:8080/"
        },
        "id": "O1GpB9I-1jHp",
        "outputId": "8384e2ae-16f1-4d34-f738-ca96c4e25f81"
      },
      "execution_count": null,
      "outputs": [
        {
          "output_type": "stream",
          "name": "stdout",
          "text": [
            "GCD of 36 and 48 is: 12\n"
          ]
        }
      ]
    },
    {
      "cell_type": "code",
      "source": [],
      "metadata": {
        "id": "k3EwX4db1zya"
      },
      "execution_count": null,
      "outputs": []
    },
    {
      "cell_type": "markdown",
      "source": [
        "28. Implement a function to calculate the square root of a given number."
      ],
      "metadata": {
        "id": "Ez22m17g10tU"
      }
    },
    {
      "cell_type": "code",
      "source": [
        "def calculate_square_root(number, epsilon=1e-6):\n",
        "    if number < 0:\n",
        "        raise ValueError(\"Cannot calculate square root of a negative number.\")\n",
        "\n",
        "    guess = number\n",
        "    while True:\n",
        "        new_guess = 0.5 * (guess + number / guess)\n",
        "        if abs(new_guess - guess) < epsilon:\n",
        "            return new_guess\n",
        "        guess = new_guess\n",
        "\n",
        "# Example\n",
        "number = 25\n",
        "square_root = calculate_square_root(number)\n",
        "print(\"Square root of\", number, \"is:\", square_root)\n"
      ],
      "metadata": {
        "colab": {
          "base_uri": "https://localhost:8080/"
        },
        "id": "O_SbUTpM13Ms",
        "outputId": "6dd731ef-cc98-40d1-ca87-d491da688489"
      },
      "execution_count": null,
      "outputs": [
        {
          "output_type": "stream",
          "name": "stdout",
          "text": [
            "Square root of 25 is: 5.0\n"
          ]
        }
      ]
    },
    {
      "cell_type": "code",
      "source": [],
      "metadata": {
        "id": "JNhlIU1J2Gtq"
      },
      "execution_count": null,
      "outputs": []
    },
    {
      "cell_type": "markdown",
      "source": [
        "29. Write a Python program to check if a given string is a valid palindrome ignoring non-alphanumeric characters."
      ],
      "metadata": {
        "id": "4ulYn4AA2JAL"
      }
    },
    {
      "cell_type": "code",
      "source": [
        "import re\n",
        "\n",
        "def is_valid_palindrome(string):\n",
        "    # Remove non-alphanumeric characters and convert to lowercase\n",
        "    alphanumeric_string = re.sub('[\\W_]', '', string).lower()\n",
        "\n",
        "    # Check if the alphanumeric string is a palindrome\n",
        "    return alphanumeric_string == alphanumeric_string[::-1]\n",
        "\n",
        "# Example\n",
        "string1 = \"A man, a plan, a canal: Panama\"\n",
        "string2 = \"race a car\"\n",
        "print(\"Is string1 a valid palindrome?\", is_valid_palindrome(string1))\n",
        "print(\"Is string2 a valid palindrome?\", is_valid_palindrome(string2))\n"
      ],
      "metadata": {
        "colab": {
          "base_uri": "https://localhost:8080/"
        },
        "id": "kj9sUKhm2NVF",
        "outputId": "380b4aa3-0730-4b55-b18c-1a9fa2a44fbe"
      },
      "execution_count": null,
      "outputs": [
        {
          "output_type": "stream",
          "name": "stdout",
          "text": [
            "Is string1 a valid palindrome? True\n",
            "Is string2 a valid palindrome? False\n"
          ]
        }
      ]
    },
    {
      "cell_type": "code",
      "source": [],
      "metadata": {
        "id": "-DhsSvLm2qbC"
      },
      "execution_count": null,
      "outputs": []
    },
    {
      "cell_type": "markdown",
      "source": [
        "30. Implement a function to find the minimum element in a rotated sorted list."
      ],
      "metadata": {
        "id": "9IE2p23n2vLf"
      }
    },
    {
      "cell_type": "code",
      "source": [
        "def find_min_rotated_sorted(nums):\n",
        "    left = 0\n",
        "    right = len(nums) - 1\n",
        "\n",
        "    while left < right:\n",
        "        mid = left + (right - left) // 2\n",
        "\n",
        "        # Check if mid element is greater than the rightmost element\n",
        "        if nums[mid] > nums[right]:\n",
        "            left = mid + 1\n",
        "        # Check if mid element is smaller than the rightmost element\n",
        "        elif nums[mid] < nums[right]:\n",
        "            right = mid\n",
        "        # Check if mid element is equal to the rightmost element\n",
        "        else:\n",
        "            right -= 1\n",
        "\n",
        "    # The left index will point to the minimum element\n",
        "    return nums[left]\n",
        "\n",
        "# Example\n",
        "nums = [4, 5, 6, 7, 1, 2]\n",
        "min_element = find_min_rotated_sorted(nums)\n",
        "print(\"Minimum element:\", min_element)\n"
      ],
      "metadata": {
        "colab": {
          "base_uri": "https://localhost:8080/"
        },
        "id": "R1cuDsoi2yjg",
        "outputId": "3267dfbd-7e86-4b30-f040-c81545f08479"
      },
      "execution_count": null,
      "outputs": [
        {
          "output_type": "stream",
          "name": "stdout",
          "text": [
            "Minimum element: 1\n"
          ]
        }
      ]
    },
    {
      "cell_type": "code",
      "source": [],
      "metadata": {
        "id": "mYWrsu0O2-S0"
      },
      "execution_count": null,
      "outputs": []
    },
    {
      "cell_type": "markdown",
      "source": [
        "31. Write a program to find the sum of all even numbers in a list."
      ],
      "metadata": {
        "id": "jonwigCQ3I66"
      }
    },
    {
      "cell_type": "code",
      "source": [
        "def sum_even_numbers(numbers):\n",
        "    sum_even = 0\n",
        "    for num in numbers:\n",
        "        if num % 2 == 0:\n",
        "            sum_even += num\n",
        "    return sum_even\n",
        "\n",
        "# Example\n",
        "numbers = [1, 2, 3, 4, 5, 6, 7, 8, 9, 10]\n",
        "sum_of_even = sum_even_numbers(numbers)\n",
        "print(\"Sum of even numbers:\", sum_of_even)\n"
      ],
      "metadata": {
        "colab": {
          "base_uri": "https://localhost:8080/"
        },
        "id": "Iarbmyfg3Jok",
        "outputId": "f9ff046e-5b41-449e-c5c8-473115f4f0e4"
      },
      "execution_count": null,
      "outputs": [
        {
          "output_type": "stream",
          "name": "stdout",
          "text": [
            "Sum of even numbers: 30\n"
          ]
        }
      ]
    },
    {
      "cell_type": "code",
      "source": [],
      "metadata": {
        "id": "LUDuLgNu3WBt"
      },
      "execution_count": null,
      "outputs": []
    },
    {
      "cell_type": "markdown",
      "source": [
        "32. Implement a function to calculate the power of a number using recursion."
      ],
      "metadata": {
        "id": "el-hf7eP3XKn"
      }
    },
    {
      "cell_type": "code",
      "source": [
        "def power(base, exponent):\n",
        "    if exponent == 0:\n",
        "        return 1\n",
        "    elif exponent < 0:\n",
        "        return 1 / power(base, -exponent)\n",
        "    else:\n",
        "        return base * power(base, exponent - 1)\n",
        "\n",
        "# Example\n",
        "base = 2\n",
        "exponent = 3\n",
        "result = power(base, exponent)\n",
        "print(f\"{base} raised to the power of {exponent} is: {result}\")\n"
      ],
      "metadata": {
        "colab": {
          "base_uri": "https://localhost:8080/"
        },
        "id": "Z8BpoLjs3aTe",
        "outputId": "a612433d-62ca-4621-bc7d-384ca2bc2c43"
      },
      "execution_count": null,
      "outputs": [
        {
          "output_type": "stream",
          "name": "stdout",
          "text": [
            "2 raised to the power of 3 is: 8\n"
          ]
        }
      ]
    },
    {
      "cell_type": "code",
      "source": [],
      "metadata": {
        "id": "J7FghvvV3rXr"
      },
      "execution_count": null,
      "outputs": []
    },
    {
      "cell_type": "markdown",
      "source": [
        "33. Write a Python program to remove duplicates from a list while preserving the order."
      ],
      "metadata": {
        "id": "SH8q65ia3v9h"
      }
    },
    {
      "cell_type": "code",
      "source": [
        "def remove_duplicates_preserve_order(lst):\n",
        "    seen = set()\n",
        "    result = []\n",
        "    for item in lst:\n",
        "        if item not in seen:\n",
        "            seen.add(item)\n",
        "            result.append(item)\n",
        "    return result\n",
        "\n",
        "# Example\n",
        "my_list = [1, 2, 3, 2, 4, 1, 5, 6, 3]\n",
        "unique_list = remove_duplicates_preserve_order(my_list)\n",
        "print(\"List after removing duplicates:\", unique_list)\n"
      ],
      "metadata": {
        "colab": {
          "base_uri": "https://localhost:8080/"
        },
        "id": "DI4SX1_L3wkM",
        "outputId": "08a1050f-70a4-4689-974d-c2ac6b2e4a6a"
      },
      "execution_count": null,
      "outputs": [
        {
          "output_type": "stream",
          "name": "stdout",
          "text": [
            "List after removing duplicates: [1, 2, 3, 4, 5, 6]\n"
          ]
        }
      ]
    },
    {
      "cell_type": "code",
      "source": [],
      "metadata": {
        "id": "Kfhw4ZNy33zU"
      },
      "execution_count": null,
      "outputs": []
    },
    {
      "cell_type": "markdown",
      "source": [
        "34. Implement a function to find the longest common prefix among a list of strings."
      ],
      "metadata": {
        "id": "lsXq6oYz35sI"
      }
    },
    {
      "cell_type": "code",
      "source": [
        "def longest_common_prefix(strings):\n",
        "    if not strings:\n",
        "        return \"\"\n",
        "\n",
        "    # Find the minimum length among all strings\n",
        "    min_len = min(len(string) for string in strings)\n",
        "\n",
        "    # Initialize the longest common prefix as an empty string\n",
        "    longest_prefix = \"\"\n",
        "\n",
        "    # Iterate over the characters up to the minimum length\n",
        "    for i in range(min_len):\n",
        "        # Get the character at the current position in the first string\n",
        "        char = strings[0][i]\n",
        "\n",
        "        # Check if the character is common to all strings\n",
        "        if all(string[i] == char for string in strings):\n",
        "            # Append the character to the longest common prefix\n",
        "            longest_prefix += char\n",
        "        else:\n",
        "            # Stop iterating if the character is not common\n",
        "            break\n",
        "\n",
        "    return longest_prefix\n",
        "\n",
        "# Example\n",
        "words = [\"flower\", \"flow\", \"flight\"]\n",
        "prefix = longest_common_prefix(words)\n",
        "print(\"Longest common prefix:\", prefix)\n"
      ],
      "metadata": {
        "colab": {
          "base_uri": "https://localhost:8080/"
        },
        "id": "aWGXwHEj38i8",
        "outputId": "d73ef31b-9244-4e4a-bf33-5a56c7d3ac76"
      },
      "execution_count": null,
      "outputs": [
        {
          "output_type": "stream",
          "name": "stdout",
          "text": [
            "Longest common prefix: fl\n"
          ]
        }
      ]
    },
    {
      "cell_type": "code",
      "source": [],
      "metadata": {
        "id": "wpWCX1fw4Rro"
      },
      "execution_count": null,
      "outputs": []
    },
    {
      "cell_type": "markdown",
      "source": [
        "35. Write a program to check if a given number is a perfect square."
      ],
      "metadata": {
        "id": "P5onvuog4UG5"
      }
    },
    {
      "cell_type": "code",
      "source": [
        "def is_perfect_square(num):\n",
        "    if num < 0:\n",
        "        return False\n",
        "    if num == 0:\n",
        "        return True\n",
        "\n",
        "    # Perform binary search to find the square root of num\n",
        "    left, right = 1, num\n",
        "    while left <= right:\n",
        "        mid = (left + right) // 2\n",
        "        square = mid * mid\n",
        "        if square == num:\n",
        "            return True\n",
        "        elif square < num:\n",
        "            left = mid + 1\n",
        "        else:\n",
        "            right = mid - 1\n",
        "\n",
        "    return False\n",
        "\n",
        "# Example\n",
        "number = 25\n",
        "is_square = is_perfect_square(number)\n",
        "print(f\"{number} is a perfect square: {is_square}\")\n"
      ],
      "metadata": {
        "colab": {
          "base_uri": "https://localhost:8080/"
        },
        "id": "Se5Vl_iw4YQb",
        "outputId": "0d7443ca-f7a3-4dce-9b6c-27b29e0a35a5"
      },
      "execution_count": null,
      "outputs": [
        {
          "output_type": "stream",
          "name": "stdout",
          "text": [
            "25 is a perfect square: True\n"
          ]
        }
      ]
    },
    {
      "cell_type": "code",
      "source": [
        "number = 20\n",
        "is_square = is_perfect_square(number)\n",
        "print(f\"{number} is a perfect square: {is_square}\")"
      ],
      "metadata": {
        "colab": {
          "base_uri": "https://localhost:8080/"
        },
        "id": "QNt2dCMi4jzV",
        "outputId": "29a14e7b-cc3a-4aff-a066-618a3e9b2d1d"
      },
      "execution_count": null,
      "outputs": [
        {
          "output_type": "stream",
          "name": "stdout",
          "text": [
            "20 is a perfect square: False\n"
          ]
        }
      ]
    },
    {
      "cell_type": "code",
      "source": [],
      "metadata": {
        "id": "EL2l6LST4pvB"
      },
      "execution_count": null,
      "outputs": []
    },
    {
      "cell_type": "markdown",
      "source": [
        "36. Implement a function to calculate the product of all elements in a list."
      ],
      "metadata": {
        "id": "lN7vBQaZ4r0i"
      }
    },
    {
      "cell_type": "code",
      "source": [
        "def calculate_product(lst):\n",
        "    product = 1\n",
        "    for num in lst:\n",
        "        product *= num\n",
        "    return product\n",
        "\n",
        "# Example\n",
        "numbers = [2, 3, 4, 5, 6]\n",
        "result = calculate_product(numbers)\n",
        "print(\"Product:\", result)\n"
      ],
      "metadata": {
        "colab": {
          "base_uri": "https://localhost:8080/"
        },
        "id": "oqZwgB5F4vG9",
        "outputId": "183f7b39-04ae-4735-dbcc-27f56783b047"
      },
      "execution_count": null,
      "outputs": [
        {
          "output_type": "stream",
          "name": "stdout",
          "text": [
            "Product: 720\n"
          ]
        }
      ]
    },
    {
      "cell_type": "code",
      "source": [],
      "metadata": {
        "id": "R7ZDy0ju46vW"
      },
      "execution_count": null,
      "outputs": []
    },
    {
      "cell_type": "markdown",
      "source": [
        "37. Write a Python program to reverse the order of words in a sentence while preserving the word order."
      ],
      "metadata": {
        "id": "s9Je4WI44-4_"
      }
    },
    {
      "cell_type": "code",
      "source": [
        "def reverse_words(sentence):\n",
        "    # Split the sentence into individual words\n",
        "    words = sentence.split()\n",
        "\n",
        "    # Reverse the order of words\n",
        "    reversed_words = words[::-1]\n",
        "\n",
        "    # Join the reversed words back into a sentence\n",
        "    reversed_sentence = ' '.join(reversed_words)\n",
        "\n",
        "    return reversed_sentence\n",
        "\n",
        "# Example\n",
        "sentence = \"Hello world, What's up ?\"\n",
        "reversed_sentence = reverse_words(sentence)\n",
        "print(\"Reversed sentence:\", reversed_sentence)\n"
      ],
      "metadata": {
        "colab": {
          "base_uri": "https://localhost:8080/"
        },
        "id": "6b5PxPzG5B0V",
        "outputId": "6e0795c8-ef20-4c56-d023-fcbe7db53179"
      },
      "execution_count": null,
      "outputs": [
        {
          "output_type": "stream",
          "name": "stdout",
          "text": [
            "Reversed sentence: ? up What's world, Hello\n"
          ]
        }
      ]
    },
    {
      "cell_type": "code",
      "source": [],
      "metadata": {
        "id": "6ntfZEW55bLo"
      },
      "execution_count": null,
      "outputs": []
    },
    {
      "cell_type": "markdown",
      "source": [
        "38. Implement a function to find the missing number in a given list of consecutive numbers."
      ],
      "metadata": {
        "id": "3mBqbtLi5ove"
      }
    },
    {
      "cell_type": "code",
      "source": [
        "def find_missing_number(numbers):\n",
        "    n = len(numbers) + 1  # Total number of elements (including the missing one)\n",
        "    total_sum = (n * (n + 1)) // 2  # Sum of all elements if no number is missing\n",
        "    actual_sum = sum(numbers)  # Sum of the given numbers\n",
        "    missing_number = total_sum - actual_sum\n",
        "    return missing_number\n",
        "\n",
        "# Example\n",
        "lst = [1, 2, 3, 5, 6]\n",
        "missing_number = find_missing_number(lst)\n",
        "print(\"Missing number:\", missing_number)\n"
      ],
      "metadata": {
        "colab": {
          "base_uri": "https://localhost:8080/"
        },
        "id": "MRriR9x05r1m",
        "outputId": "0ca7a418-a8e0-45da-d55d-3696356933fa"
      },
      "execution_count": null,
      "outputs": [
        {
          "output_type": "stream",
          "name": "stdout",
          "text": [
            "Missing number: 4\n"
          ]
        }
      ]
    },
    {
      "cell_type": "code",
      "source": [],
      "metadata": {
        "id": "zh8uXGop52JC"
      },
      "execution_count": null,
      "outputs": []
    },
    {
      "cell_type": "markdown",
      "source": [
        "39. Write a program to find the sum of digits of a given number."
      ],
      "metadata": {
        "id": "-NY9Elpv559A"
      }
    },
    {
      "cell_type": "code",
      "source": [
        "def sum_of_digits(number):\n",
        "    # Convert the number to a string\n",
        "    number_str = str(number)\n",
        "\n",
        "    # Initialize the sum to 0\n",
        "    digit_sum = 0\n",
        "\n",
        "    # Iterate over each character in the string\n",
        "    for digit_char in number_str:\n",
        "        # Convert the character back to an integer\n",
        "        digit = int(digit_char)\n",
        "\n",
        "        # Add the digit to the sum\n",
        "        digit_sum += digit\n",
        "\n",
        "    return digit_sum\n",
        "\n",
        "# Example\n",
        "num = 12345\n",
        "sum_digits = sum_of_digits(num)\n",
        "print(\"Sum of digits:\", sum_digits)\n"
      ],
      "metadata": {
        "colab": {
          "base_uri": "https://localhost:8080/"
        },
        "id": "3ramdiXg59GL",
        "outputId": "9cc6adca-e3a8-4fcf-b216-047b93400657"
      },
      "execution_count": null,
      "outputs": [
        {
          "output_type": "stream",
          "name": "stdout",
          "text": [
            "Sum of digits: 15\n"
          ]
        }
      ]
    },
    {
      "cell_type": "code",
      "source": [],
      "metadata": {
        "id": "doMr8PZF6Fi-"
      },
      "execution_count": null,
      "outputs": []
    },
    {
      "cell_type": "markdown",
      "source": [
        "40. Implement a function to check if a given string is a valid palindrome considering case sensitivity."
      ],
      "metadata": {
        "id": "8MGiyIYt6HCU"
      }
    },
    {
      "cell_type": "code",
      "source": [
        "def is_valid_palindrome(string):\n",
        "    # Remove whitespace and convert the string to lowercase\n",
        "    string = string.replace(\" \", \"\").lower()\n",
        "\n",
        "    # Check if the string is equal to its reverse\n",
        "    return string == string[::-1]\n",
        "\n",
        "# Example\n",
        "str1 = \"level\"\n",
        "print(is_valid_palindrome(str1))\n",
        "\n"
      ],
      "metadata": {
        "colab": {
          "base_uri": "https://localhost:8080/"
        },
        "id": "nIqiExrI6Leq",
        "outputId": "1e25b5a5-e3fb-4ead-d697-911e403d0a32"
      },
      "execution_count": null,
      "outputs": [
        {
          "output_type": "stream",
          "name": "stdout",
          "text": [
            "True\n"
          ]
        }
      ]
    },
    {
      "cell_type": "code",
      "source": [],
      "metadata": {
        "id": "WqXyqn4d6ql9"
      },
      "execution_count": null,
      "outputs": []
    },
    {
      "cell_type": "markdown",
      "source": [
        "41. Write a Python program to find the smallest missing positive integer in a list."
      ],
      "metadata": {
        "id": "9yjJO2qr6wyj"
      }
    },
    {
      "cell_type": "code",
      "source": [
        "def find_smallest_missing_positive(nums):\n",
        "    # Remove negative numbers and zeros from the list\n",
        "    nums = [num for num in nums if num > 0]\n",
        "\n",
        "    # If the list is empty, return 1\n",
        "    if not nums:\n",
        "        return 1\n",
        "\n",
        "    # Sort the list in ascending order\n",
        "    nums.sort()\n",
        "\n",
        "    # Check if 1 is missing\n",
        "    if nums[0] != 1:\n",
        "        return 1\n",
        "\n",
        "    # Check for missing positive integers\n",
        "    for i in range(len(nums) - 1):\n",
        "        if nums[i+1] - nums[i] > 1:\n",
        "            return nums[i] + 1\n",
        "\n",
        "    # If no missing positive integer found, return the next positive integer\n",
        "    return nums[-1] + 1\n",
        "\n",
        "# Example\n",
        "numbers = [3, 4, -1, 1, 9, 5]\n",
        "smallest_missing = find_smallest_missing_positive(numbers)\n",
        "print(\"Smallest missing positive integer:\", smallest_missing)\n"
      ],
      "metadata": {
        "colab": {
          "base_uri": "https://localhost:8080/"
        },
        "id": "P1JMuTwK60Dm",
        "outputId": "d3d8f80a-6777-4175-a523-b64cf09735b3"
      },
      "execution_count": null,
      "outputs": [
        {
          "output_type": "stream",
          "name": "stdout",
          "text": [
            "Smallest missing positive integer: 2\n"
          ]
        }
      ]
    },
    {
      "cell_type": "code",
      "source": [],
      "metadata": {
        "id": "vc6PtDmb7Gbj"
      },
      "execution_count": null,
      "outputs": []
    },
    {
      "cell_type": "markdown",
      "source": [
        "42. Implement a function to find the longest palindrome substring in a given string."
      ],
      "metadata": {
        "id": "NsuypNnP7H0X"
      }
    },
    {
      "cell_type": "code",
      "source": [
        "def longest_palindrome_substring(string):\n",
        "    # Helper function to expand around the center\n",
        "    def expand_around_center(left, right):\n",
        "        while left >= 0 and right < len(string) and string[left] == string[right]:\n",
        "            left -= 1\n",
        "            right += 1\n",
        "        return string[left + 1:right]\n",
        "\n",
        "    # Initialize the longest palindrome substring\n",
        "    longest_palindrome = \"\"\n",
        "\n",
        "    # Iterate over each character in the string\n",
        "    for i in range(len(string)):\n",
        "        # Check for odd length palindromes\n",
        "        odd_palindrome = expand_around_center(i, i)\n",
        "        if len(odd_palindrome) > len(longest_palindrome):\n",
        "            longest_palindrome = odd_palindrome\n",
        "\n",
        "        # Check for even length palindromes\n",
        "        even_palindrome = expand_around_center(i, i + 1)\n",
        "        if len(even_palindrome) > len(longest_palindrome):\n",
        "            longest_palindrome = even_palindrome\n",
        "\n",
        "    return longest_palindrome\n",
        "\n",
        "# Example\n",
        "text = \"babad\"\n",
        "longest_palindrome = longest_palindrome_substring(text)\n",
        "print(\"Longest palindrome substring:\", longest_palindrome)\n"
      ],
      "metadata": {
        "colab": {
          "base_uri": "https://localhost:8080/"
        },
        "id": "LNGWaii07K8C",
        "outputId": "6143a3c9-d282-4120-ac4d-713797688da1"
      },
      "execution_count": null,
      "outputs": [
        {
          "output_type": "stream",
          "name": "stdout",
          "text": [
            "Longest palindrome substring: bab\n"
          ]
        }
      ]
    },
    {
      "cell_type": "code",
      "source": [],
      "metadata": {
        "id": "DOQe9WpI7YEe"
      },
      "execution_count": null,
      "outputs": []
    },
    {
      "cell_type": "markdown",
      "source": [
        "43. Write a program to find the number of occurrences of a given element in a list."
      ],
      "metadata": {
        "id": "HMqBO83u7aUO"
      }
    },
    {
      "cell_type": "code",
      "source": [
        "def count_occurrences(lst, element):\n",
        "    count = 0\n",
        "    for item in lst:\n",
        "        if item == element:\n",
        "            count += 1\n",
        "    return count\n",
        "\n",
        "# Example\n",
        "numbers = [1, 2, 3, 4, 2, 2, 3, 2, 5]\n",
        "element = 2\n",
        "occurrences = count_occurrences(numbers, element)\n",
        "print(\"Number of occurrences of\", element, \":\", occurrences)\n"
      ],
      "metadata": {
        "colab": {
          "base_uri": "https://localhost:8080/"
        },
        "id": "yCtSoKGH7dY0",
        "outputId": "0259d6a0-9ab0-4483-d04e-206dd83ec6f0"
      },
      "execution_count": null,
      "outputs": [
        {
          "output_type": "stream",
          "name": "stdout",
          "text": [
            "Number of occurrences of 2 : 4\n"
          ]
        }
      ]
    },
    {
      "cell_type": "code",
      "source": [],
      "metadata": {
        "id": "dkIkqK8j7l5a"
      },
      "execution_count": null,
      "outputs": []
    },
    {
      "cell_type": "markdown",
      "source": [
        "44. Implement a function to check if a given number is a perfect number."
      ],
      "metadata": {
        "id": "QNelmgzl7nvH"
      }
    },
    {
      "cell_type": "code",
      "source": [
        "def is_perfect_number(number):\n",
        "    if number <= 0:\n",
        "        return False\n",
        "\n",
        "    # Find the divisors of the number\n",
        "    divisors = []\n",
        "    for i in range(1, number):\n",
        "        if number % i == 0:\n",
        "            divisors.append(i)\n",
        "\n",
        "    # Sum the divisors\n",
        "    divisor_sum = sum(divisors)\n",
        "\n",
        "    # Check if the sum of divisors equals the number\n",
        "    return divisor_sum == number\n",
        "\n",
        "# Example\n",
        "num = 28\n",
        "is_perfect = is_perfect_number(num)\n",
        "print(\"Is perfect number:\", is_perfect)\n"
      ],
      "metadata": {
        "colab": {
          "base_uri": "https://localhost:8080/"
        },
        "id": "i_b1Gm697st4",
        "outputId": "035e8680-d41a-4134-8f79-9a6368f4dbf4"
      },
      "execution_count": null,
      "outputs": [
        {
          "output_type": "stream",
          "name": "stdout",
          "text": [
            "Is perfect number: True\n"
          ]
        }
      ]
    },
    {
      "cell_type": "code",
      "source": [],
      "metadata": {
        "id": "etXdMjdM71Wj"
      },
      "execution_count": null,
      "outputs": []
    },
    {
      "cell_type": "markdown",
      "source": [
        "45. Write a Python program to remove all duplicates from a string."
      ],
      "metadata": {
        "id": "qGtsf0oJ73MX"
      }
    },
    {
      "cell_type": "code",
      "source": [
        "def remove_duplicates(string):\n",
        "    # Create an empty set to store unique characters\n",
        "    unique_chars = set()\n",
        "\n",
        "    # Iterate over each character in the string\n",
        "    # and add it to the set if it's not already present\n",
        "    result = \"\"\n",
        "    for char in string:\n",
        "        if char not in unique_chars:\n",
        "            result += char\n",
        "            unique_chars.add(char)\n",
        "\n",
        "    return result\n",
        "\n",
        "# Example\n",
        "text = \"abracadabra\"\n",
        "result = remove_duplicates(text)\n",
        "print(\"String with duplicates removed:\", result)\n"
      ],
      "metadata": {
        "colab": {
          "base_uri": "https://localhost:8080/"
        },
        "id": "c9IshS_B76S3",
        "outputId": "865d3c33-4adc-435a-f1e6-607fe63bd193"
      },
      "execution_count": null,
      "outputs": [
        {
          "output_type": "stream",
          "name": "stdout",
          "text": [
            "String with duplicates removed: abrcd\n"
          ]
        }
      ]
    },
    {
      "cell_type": "code",
      "source": [],
      "metadata": {
        "id": "7Uoh9xHv8Etl"
      },
      "execution_count": null,
      "outputs": []
    },
    {
      "cell_type": "markdown",
      "source": [
        "46. Implement a function to find the first missing positive."
      ],
      "metadata": {
        "id": "xwfPrVmm8GKy"
      }
    },
    {
      "cell_type": "code",
      "source": [
        "def find_first_missing_positive(nums):\n",
        "    # Separate positive numbers from non-positive numbers\n",
        "    positive_nums = [num for num in nums if num > 0]\n",
        "\n",
        "    # If there are no positive numbers, return 1\n",
        "    if not positive_nums:\n",
        "        return 1\n",
        "\n",
        "    # Sort the positive numbers in ascending order\n",
        "    positive_nums.sort()\n",
        "\n",
        "    # Check for the first missing positive number\n",
        "    missing_num = 1\n",
        "    for num in positive_nums:\n",
        "        if num == missing_num:\n",
        "            missing_num += 1\n",
        "        else:\n",
        "            return missing_num\n",
        "\n",
        "    return missing_num\n",
        "\n",
        "# Example\n",
        "numbers = [3, 4, -1, 1]\n",
        "missing_positive = find_first_missing_positive(numbers)\n",
        "print(\"First missing positive:\", missing_positive)\n"
      ],
      "metadata": {
        "colab": {
          "base_uri": "https://localhost:8080/"
        },
        "id": "xcCU9X0a8Jm9",
        "outputId": "ce5a89e3-45fd-4bd2-a947-67f7608276e2"
      },
      "execution_count": null,
      "outputs": [
        {
          "output_type": "stream",
          "name": "stdout",
          "text": [
            "First missing positive: 2\n"
          ]
        }
      ]
    },
    {
      "cell_type": "code",
      "source": [],
      "metadata": {
        "id": "6SGs765a8TCt"
      },
      "execution_count": null,
      "outputs": []
    }
  ]
}