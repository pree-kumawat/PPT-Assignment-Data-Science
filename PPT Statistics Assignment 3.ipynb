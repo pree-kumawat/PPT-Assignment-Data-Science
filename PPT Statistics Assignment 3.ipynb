{
 "cells": [
  {
   "cell_type": "markdown",
   "id": "d361a801",
   "metadata": {},
   "source": [
    "### Q1Scenario: A company wants to analyze the sales performance of its products in different regions. They have collected the following data:\n",
    "   `Region A: [10, 15, 12, 8, 14]\n",
    "   Region B: [18, 20, 16, 22, 25]\n",
    "   Calculate the mean sales for each region.`\n"
   ]
  },
  {
   "cell_type": "code",
   "execution_count": 1,
   "id": "eec7a47c",
   "metadata": {},
   "outputs": [
    {
     "name": "stdout",
     "output_type": "stream",
     "text": [
      "Mean sales for Region A: 11.8\n",
      "Mean sales for Region B: 20.2\n"
     ]
    }
   ],
   "source": [
    "region_a_sales = [10, 15, 12, 8, 14]\n",
    "region_b_sales = [18, 20, 16, 22, 25]\n",
    "\n",
    "mean_region_a = sum(region_a_sales) / len(region_a_sales)\n",
    "mean_region_b = sum(region_b_sales) / len(region_b_sales)\n",
    "\n",
    "print(\"Mean sales for Region A:\", mean_region_a)\n",
    "print(\"Mean sales for Region B:\", mean_region_b)\n"
   ]
  },
  {
   "cell_type": "code",
   "execution_count": 5,
   "id": "67a0ecaa",
   "metadata": {},
   "outputs": [
    {
     "name": "stdout",
     "output_type": "stream",
     "text": [
      "mean of region A: 11.8\n",
      "mean of region B: 20.2\n"
     ]
    }
   ],
   "source": [
    "import statistics\n",
    "\n",
    "region_a_sales = [10, 15, 12, 8, 14]\n",
    "region_b_sales = [18, 20, 16, 22, 25]\n",
    "\n",
    "mean_region_a = statistics.mean(region_a_sales)\n",
    "mean_region_b = statistics.mean(region_b_sales)\n",
    "\n",
    "print(\"mean of region A:\" , mean_region_a )\n",
    "print(\"mean of region B:\" , mean_region_b )\n"
   ]
  },
  {
   "cell_type": "markdown",
   "id": "00c29341",
   "metadata": {},
   "source": [
    "### Q2. Scenario: A survey is conducted to measure customer satisfaction on a scale of 1 to 5. The data collected is as follows:\n",
    "   `[4, 5, 2, 3, 5, 4, 3, 2, 4, 5]\n",
    "   Calculate the mode of the survey responses.`\n"
   ]
  },
  {
   "cell_type": "code",
   "execution_count": 1,
   "id": "03c258cf",
   "metadata": {},
   "outputs": [
    {
     "name": "stdout",
     "output_type": "stream",
     "text": [
      "Mode of the survey responses: 4\n"
     ]
    }
   ],
   "source": [
    "import statistics\n",
    "\n",
    "survey_responses = [4, 5, 2, 3, 5, 4, 3, 2, 4, 5]\n",
    "mode = statistics.mode(survey_responses)\n",
    "\n",
    "print(\"Mode of the survey responses:\", mode)\n",
    "\n"
   ]
  },
  {
   "cell_type": "markdown",
   "id": "657344e4",
   "metadata": {},
   "source": [
    "### Q3. Scenario: A company wants to compare the salaries of two departments. The salary data for Department A and Department B are as follows:\n",
    "   `Department A: [5000, 6000, 5500, 7000]\n",
    "   Department B: [4500, 5500, 5800, 6000, 5200]`\n",
    "    Calculate the median salary for each department.\n",
    "\n"
   ]
  },
  {
   "cell_type": "code",
   "execution_count": 4,
   "id": "562005a1",
   "metadata": {},
   "outputs": [
    {
     "name": "stdout",
     "output_type": "stream",
     "text": [
      "Department A Median Salary: 5750.0\n",
      "Department B Median Salary: 5500\n"
     ]
    }
   ],
   "source": [
    "import statistics\n",
    "\n",
    "# Salary data for Department A and Department B\n",
    "department_a = [5000, 6000, 5500, 7000]\n",
    "department_b = [4500, 5500, 5800, 6000, 5200]\n",
    "\n",
    "# Calculate median salary for Department A\n",
    "median_a = statistics.median(department_a)\n",
    "\n",
    "# Calculate median salary for Department B\n",
    "median_b = statistics.median(department_b)\n",
    "\n",
    "# Print the results\n",
    "print(\"Department A Median Salary:\", median_a)\n",
    "print(\"Department B Median Salary:\", median_b)\n",
    "\n"
   ]
  },
  {
   "cell_type": "markdown",
   "id": "84c2b615",
   "metadata": {},
   "source": [
    "### Q4. Scenario: A data analyst wants to determine the variability in the daily stock prices of a company. The data collected is as follows:\n",
    "   `[25.5, 24.8, 26.1, 25.3, 24.9]\n",
    "   Calculate the range of the stock prices.`\n"
   ]
  },
  {
   "cell_type": "code",
   "execution_count": 6,
   "id": "9808d142",
   "metadata": {},
   "outputs": [
    {
     "name": "stdout",
     "output_type": "stream",
     "text": [
      "Range of Stock Prices: 1.3000000000000007\n"
     ]
    }
   ],
   "source": [
    "# Stock price data\n",
    "stock_prices = [25.5, 24.8, 26.1, 25.3, 24.9]\n",
    "\n",
    "# Calculate the range\n",
    "price_range = max(stock_prices) - min(stock_prices)\n",
    "\n",
    "# Print the result\n",
    "print(\"Range of Stock Prices:\", price_range)\n"
   ]
  },
  {
   "cell_type": "markdown",
   "id": "d9ac7757",
   "metadata": {},
   "source": [
    "### Q5. Scenario: A study is conducted to compare the performance of two different teaching methods. The test scores of the students in each group are as follows:\n",
    "   `Group A: [85, 90, 92, 88, 91]\n",
    "   Group B: [82, 88, 90, 86, 87]\n",
    "   Perform a t-test to determine if there is a significant difference in the mean scores between the two groups.`\n"
   ]
  },
  {
   "cell_type": "code",
   "execution_count": 7,
   "id": "c57c6539",
   "metadata": {},
   "outputs": [
    {
     "name": "stdout",
     "output_type": "stream",
     "text": [
      "There is no significant difference in the mean scores between Group A and Group B.\n"
     ]
    }
   ],
   "source": [
    "from scipy import stats\n",
    "\n",
    "# Test scores for Group A and Group B\n",
    "group_a = [85, 90, 92, 88, 91]\n",
    "group_b = [82, 88, 90, 86, 87]\n",
    "\n",
    "# Perform t-test\n",
    "t_statistic, p_value = stats.ttest_ind(group_a, group_b)\n",
    "\n",
    "# Print the result\n",
    "if p_value < 0.05:\n",
    "    print(\"There is a significant difference in the mean scores between Group A and Group B.\")\n",
    "else:\n",
    "    print(\"There is no significant difference in the mean scores between Group A and Group B.\")\n"
   ]
  },
  {
   "cell_type": "markdown",
   "id": "1745be37",
   "metadata": {},
   "source": [
    "### Q6. Scenario: A company wants to analyze the relationship between advertising expenditure and sales. The data collected is as follows:\n",
    "   `Advertising Expenditure (in thousands): [10, 15, 12, 8, 14]\n",
    "   Sales (in thousands): [25, 30, 28, 20, 26]\n",
    "   Calculate the correlation coefficient between advertising expenditure and sales.`\n"
   ]
  },
  {
   "cell_type": "code",
   "execution_count": 8,
   "id": "54689ed9",
   "metadata": {},
   "outputs": [
    {
     "name": "stdout",
     "output_type": "stream",
     "text": [
      "Correlation Coefficient: 0.8757511375750132\n"
     ]
    }
   ],
   "source": [
    "import numpy as np\n",
    "\n",
    "# Advertising Expenditure and Sales data\n",
    "expenditure = np.array([10, 15, 12, 8, 14])\n",
    "sales = np.array([25, 30, 28, 20, 26])\n",
    "\n",
    "# Calculate the correlation coefficient\n",
    "correlation_coefficient = np.corrcoef(expenditure, sales)[0, 1]\n",
    "\n",
    "# Print the result\n",
    "print(\"Correlation Coefficient:\", correlation_coefficient)\n"
   ]
  },
  {
   "cell_type": "markdown",
   "id": "033f03cd",
   "metadata": {},
   "source": [
    "### Q7. Scenario: A survey is conducted to measure the heights of a group of people. The data collected is as follows:\n",
    "   `[160, 170, 165, 155, 175, 180, 170]\n",
    "   Calculate the standard deviation of the heights.`\n"
   ]
  },
  {
   "cell_type": "code",
   "execution_count": 9,
   "id": "c0489a85",
   "metadata": {},
   "outputs": [
    {
     "name": "stdout",
     "output_type": "stream",
     "text": [
      "Standard Deviation of Heights: 7.953949089757174\n"
     ]
    }
   ],
   "source": [
    "import numpy as np\n",
    "\n",
    "# Heights data\n",
    "heights = np.array([160, 170, 165, 155, 175, 180, 170])\n",
    "\n",
    "# Calculate the standard deviation\n",
    "std_deviation = np.std(heights)\n",
    "\n",
    "# Print the result\n",
    "print(\"Standard Deviation of Heights:\", std_deviation)\n"
   ]
  },
  {
   "cell_type": "markdown",
   "id": "6514a8a9",
   "metadata": {},
   "source": [
    "### Q8. Scenario: A company wants to analyze the relationship between employee tenure and job satisfaction. The data collected is as follows:\n",
    "   `Employee Tenure (in years): [2, 3, 5, 4, 6, 2, 4]\n",
    "   Job Satisfaction (on a scale of 1 to 10): [7, 8, 6, 9, 5, 7, 6]\n",
    "   Perform a linear regression analysis to predict job satisfaction based on employee tenure`.\n",
    "\n"
   ]
  },
  {
   "cell_type": "code",
   "execution_count": 10,
   "id": "9c1ac875",
   "metadata": {},
   "outputs": [
    {
     "name": "stdout",
     "output_type": "stream",
     "text": [
      "Predicted Job Satisfaction: 6.957446808510637\n"
     ]
    }
   ],
   "source": [
    "from sklearn.linear_model import LinearRegression\n",
    "import numpy as np\n",
    "\n",
    "# Employee Tenure and Job Satisfaction data\n",
    "tenure = np.array([2, 3, 5, 4, 6, 2, 4]).reshape(-1, 1)\n",
    "satisfaction = np.array([7, 8, 6, 9, 5, 7, 6])\n",
    "\n",
    "# Create and fit the linear regression model\n",
    "model = LinearRegression()\n",
    "model.fit(tenure, satisfaction)\n",
    "\n",
    "# Predict job satisfaction for a new tenure value\n",
    "new_tenure = np.array([3.5]).reshape(-1, 1)\n",
    "predicted_satisfaction = model.predict(new_tenure)\n",
    "\n",
    "# Print the predicted job satisfaction\n",
    "print(\"Predicted Job Satisfaction:\", predicted_satisfaction[0])\n"
   ]
  },
  {
   "cell_type": "markdown",
   "id": "6beffa0f",
   "metadata": {},
   "source": [
    "### Q9. Scenario: A study is conducted to compare the effectiveness of two different medications. The recovery times of the patients in each group are as follows:\n",
    "   `Medication A: [10, 12, 14, 11, 13]\n",
    "   Medication B: [15, 17, 16, 14, 18]\n",
    "   Perform an analysis of variance (ANOVA) to determine if there is a significant difference in the mean recovery times between the two medications.`\n"
   ]
  },
  {
   "cell_type": "code",
   "execution_count": 11,
   "id": "bca81c32",
   "metadata": {},
   "outputs": [
    {
     "name": "stdout",
     "output_type": "stream",
     "text": [
      "There is a significant difference in the mean recovery times between the two medications.\n"
     ]
    }
   ],
   "source": [
    "from scipy import stats\n",
    "\n",
    "# Recovery times for Medication A and Medication B\n",
    "medication_a = [10, 12, 14, 11, 13]\n",
    "medication_b = [15, 17, 16, 14, 18]\n",
    "\n",
    "# Perform one-way ANOVA\n",
    "f_statistic, p_value = stats.f_oneway(medication_a, medication_b)\n",
    "\n",
    "# Print the result\n",
    "if p_value < 0.05:\n",
    "    print(\"There is a significant difference in the mean recovery times between the two medications.\")\n",
    "else:\n",
    "    print(\"There is no significant difference in the mean recovery times between the two medications.\")\n"
   ]
  },
  {
   "cell_type": "markdown",
   "id": "a7bc9918",
   "metadata": {},
   "source": [
    "### Q10. Scenario: A company wants to analyze customer feedback ratings on a scale of 1 to 10. The data collected is\n",
    "\n",
    " `as follows:\n",
    "    [8, 9, 7, 6, 8, 10, 9, 8, 7, 8]\n",
    "    Calculate the 75th percentile of the feedback ratings.`\n"
   ]
  },
  {
   "cell_type": "code",
   "execution_count": 12,
   "id": "0f74a8ff",
   "metadata": {},
   "outputs": [
    {
     "name": "stdout",
     "output_type": "stream",
     "text": [
      "75th Percentile of Feedback Ratings: 8.75\n"
     ]
    }
   ],
   "source": [
    "import numpy as np\n",
    "\n",
    "# Customer feedback ratings\n",
    "ratings = np.array([8, 9, 7, 6, 8, 10, 9, 8, 7, 8])\n",
    "\n",
    "# Calculate the 75th percentile\n",
    "percentile_75 = np.percentile(ratings, 75)\n",
    "\n",
    "# Print the result\n",
    "print(\"75th Percentile of Feedback Ratings:\", percentile_75)\n"
   ]
  },
  {
   "cell_type": "markdown",
   "id": "b6346e09",
   "metadata": {},
   "source": [
    "### Q11. Scenario: A quality control department wants to test the weight consistency of a product. The weights of a sample of products are as follows:\n",
    "    [10.2, 9.8, 10.0, 10.5, 10.3, 10.1]\n",
    "    Perform a hypothesis test to determine if the mean weight differs significantly from 10 grams.\n"
   ]
  },
  {
   "cell_type": "code",
   "execution_count": 13,
   "id": "d1d16053",
   "metadata": {},
   "outputs": [
    {
     "name": "stdout",
     "output_type": "stream",
     "text": [
      "The mean weight does not differ significantly from 10 grams.\n"
     ]
    }
   ],
   "source": [
    "from scipy import stats\n",
    "\n",
    "# Weights of the sample products\n",
    "weights = [10.2, 9.8, 10.0, 10.5, 10.3, 10.1]\n",
    "\n",
    "# Perform one-sample t-test\n",
    "t_statistic, p_value = stats.ttest_1samp(weights, 10)\n",
    "\n",
    "# Print the result\n",
    "if p_value < 0.05:\n",
    "    print(\"The mean weight differs significantly from 10 grams.\")\n",
    "else:\n",
    "    print(\"The mean weight does not differ significantly from 10 grams.\")\n"
   ]
  },
  {
   "cell_type": "markdown",
   "id": "fd317310",
   "metadata": {},
   "source": [
    "### Q12. Scenario: A company wants to analyze the click-through rates of two different website designs. The number of clicks for each design is as follows:\n",
    "    Design A: [100, 120, 110, 90, 95]\n",
    "    Design B: [80, 85, 90, 95, 100]\n",
    "    Perform a chi-square test to determine if there is a significant difference in the click-through rates between the two designs.\n"
   ]
  },
  {
   "cell_type": "code",
   "execution_count": 17,
   "id": "891211c6",
   "metadata": {},
   "outputs": [
    {
     "name": "stdout",
     "output_type": "stream",
     "text": [
      "There is no significant difference in the click-through rates between Design A and Design B.\n"
     ]
    }
   ],
   "source": [
    "from scipy import stats\n",
    "import numpy as np\n",
    "\n",
    "# Click-through rates for Design A and Design B\n",
    "design_a = np.array([100, 120, 110, 90, 95])\n",
    "design_b = np.array([80, 85, 90, 95, 100])\n",
    "\n",
    "# Concatenate the observed frequencies\n",
    "observed_frequencies = np.concatenate((design_a, design_b))\n",
    "\n",
    "# Create expected frequencies assuming no difference\n",
    "expected_frequency = np.mean(observed_frequencies)\n",
    "\n",
    "# Perform chi-square test\n",
    "chi2_statistic, p_value = stats.chisquare(observed_frequencies, f_exp=expected_frequency)\n",
    "\n",
    "# Print the result\n",
    "if p_value < 0.05:\n",
    "    print(\"There is a significant difference in the click-through rates between Design A and Design B.\")\n",
    "else:\n",
    "    print(\"There is no significant difference in the click-through rates between Design A and Design B.\")\n",
    "\n"
   ]
  },
  {
   "cell_type": "markdown",
   "id": "799eb21d",
   "metadata": {},
   "source": [
    "### Q13. Scenario: A survey is conducted to measure customer satisfaction with a product on a scale of 1 to 10. The data collected is as follows:\n",
    "    [7, 9, 6, 8, 10, 7, 8, 9, 7, 8]\n",
    "    Calculate the 95% confidence interval for the population mean satisfaction score.\n"
   ]
  },
  {
   "cell_type": "code",
   "execution_count": 18,
   "id": "f866da18",
   "metadata": {},
   "outputs": [
    {
     "name": "stdout",
     "output_type": "stream",
     "text": [
      "95% Confidence Interval: (7.043561120599888, 8.756438879400113)\n"
     ]
    }
   ],
   "source": [
    "import numpy as np\n",
    "from scipy import stats\n",
    "\n",
    "# Customer satisfaction scores\n",
    "scores = np.array([7, 9, 6, 8, 10, 7, 8, 9, 7, 8])\n",
    "\n",
    "# Calculate the sample mean and standard error\n",
    "sample_mean = np.mean(scores)\n",
    "standard_error = stats.sem(scores)\n",
    "\n",
    "# Calculate the confidence interval\n",
    "confidence_interval = stats.t.interval(0.95, len(scores) - 1, loc=sample_mean, scale=standard_error)\n",
    "\n",
    "# Print the result\n",
    "print(\"95% Confidence Interval:\", confidence_interval)\n"
   ]
  },
  {
   "cell_type": "markdown",
   "id": "0d141c1c",
   "metadata": {},
   "source": [
    "### Q14. Scenario: A company wants to analyze the effect of temperature on product performance. The data collected is as follows:\n",
    "    Temperature (in degrees Celsius): [20, 22, 23, 19, 21]\n",
    "    Performance (on a scale of 1 to 10): [8, 7, 9, 6, 8]\n",
    "    Perform a simple linear regression to predict performance based on temperature.\n",
    "\n"
   ]
  },
  {
   "cell_type": "code",
   "execution_count": 19,
   "id": "3327bf2a",
   "metadata": {},
   "outputs": [
    {
     "name": "stdout",
     "output_type": "stream",
     "text": [
      "Predicted Performance: 9.099999999999998\n"
     ]
    }
   ],
   "source": [
    "import numpy as np\n",
    "from sklearn.linear_model import LinearRegression\n",
    "\n",
    "# Temperature and Performance data\n",
    "temperature = np.array([20, 22, 23, 19, 21]).reshape(-1, 1)\n",
    "performance = np.array([8, 7, 9, 6, 8])\n",
    "\n",
    "# Create and fit the linear regression model\n",
    "model = LinearRegression()\n",
    "model.fit(temperature, performance)\n",
    "\n",
    "# Predict performance for a new temperature value\n",
    "new_temperature = np.array([24]).reshape(-1, 1)\n",
    "predicted_performance = model.predict(new_temperature)\n",
    "\n",
    "# Print the predicted performance\n",
    "print(\"Predicted Performance:\", predicted_performance[0])\n"
   ]
  },
  {
   "cell_type": "markdown",
   "id": "5b9beac4",
   "metadata": {},
   "source": [
    "### Q15. Scenario: A study is conducted to compare the preferences of two groups of participants. The preferences are measured on a Likert scale from 1 to 5. The data collected is as follows:\n",
    "    Group A: [4, 3, 5, 2, 4]\n",
    "    Group B: [3, 2, 4, 3, 3]\n",
    "    Perform a Mann-Whitney U test to determine if there is a significant difference in the median preferences between the two groups.\n",
    "\n"
   ]
  },
  {
   "cell_type": "code",
   "execution_count": 20,
   "id": "f8f882b9",
   "metadata": {},
   "outputs": [
    {
     "name": "stdout",
     "output_type": "stream",
     "text": [
      "There is no significant difference in the median preferences between Group A and Group B.\n"
     ]
    }
   ],
   "source": [
    "from scipy import stats\n",
    "\n",
    "# Preferences for Group A and Group B\n",
    "group_a = [4, 3, 5, 2, 4]\n",
    "group_b = [3, 2, 4, 3, 3]\n",
    "\n",
    "# Perform Mann-Whitney U test\n",
    "statistic, p_value = stats.mannwhitneyu(group_a, group_b)\n",
    "\n",
    "# Print the result\n",
    "if p_value < 0.05:\n",
    "    print(\"There is a significant difference in the median preferences between Group A and Group B.\")\n",
    "else:\n",
    "    print(\"There is no significant difference in the median preferences between Group A and Group B.\")\n"
   ]
  },
  {
   "cell_type": "markdown",
   "id": "8fd35e58",
   "metadata": {},
   "source": [
    "### Q16. Scenario: A company wants to analyze the distribution of customer ages. The data collected is as follows:\n",
    "    [25, 30, 35, 40, 45, 50, 55, 60, 65, 70]\n",
    "    Calculate the interquartile range (IQR) of the ages.\n"
   ]
  },
  {
   "cell_type": "code",
   "execution_count": 21,
   "id": "8b1f000b",
   "metadata": {},
   "outputs": [
    {
     "name": "stdout",
     "output_type": "stream",
     "text": [
      "Interquartile Range (IQR) of Ages: 22.5\n"
     ]
    }
   ],
   "source": [
    "import numpy as np\n",
    "\n",
    "# Customer ages\n",
    "ages = np.array([25, 30, 35, 40, 45, 50, 55, 60, 65, 70])\n",
    "\n",
    "# Calculate the first quartile (Q1)\n",
    "q1 = np.percentile(ages, 25)\n",
    "\n",
    "# Calculate the third quartile (Q3)\n",
    "q3 = np.percentile(ages, 75)\n",
    "\n",
    "# Calculate the interquartile range (IQR)\n",
    "iqr = q3 - q1\n",
    "\n",
    "# Print the result\n",
    "print(\"Interquartile Range (IQR) of Ages:\", iqr)\n"
   ]
  },
  {
   "cell_type": "code",
   "execution_count": 22,
   "id": "9fcb7158",
   "metadata": {},
   "outputs": [
    {
     "name": "stdout",
     "output_type": "stream",
     "text": [
      "Interquartile Range (IQR) of Ages: 22.5\n"
     ]
    }
   ],
   "source": [
    "from scipy import stats\n",
    "\n",
    "# Customer ages\n",
    "ages = [25, 30, 35, 40, 45, 50, 55, 60, 65, 70]\n",
    "\n",
    "# Calculate the interquartile range (IQR)\n",
    "iqr = stats.iqr(ages)\n",
    "\n",
    "# Print the result\n",
    "print(\"Interquartile Range (IQR) of Ages:\", iqr)\n"
   ]
  },
  {
   "cell_type": "markdown",
   "id": "98e177f4",
   "metadata": {},
   "source": [
    "### Q17. Scenario: A study is conducted to compare the performance of three different machine learning algorithms. The accuracy scores for each algorithm are as follows:\n",
    "    Algorithm A: [0.85, 0.80, 0.82, 0.87, 0.83]\n",
    "    Algorithm B: [0.78, 0.82, 0.84, 0.80, 0.79]\n",
    "    Algorithm C: [0.90, 0.88, 0.89, 0.86, 0.87]\n",
    "    Perform a Kruskal-Wallis test to determine if there is a significant difference in the median accuracy scores between the algorithms.\n"
   ]
  },
  {
   "cell_type": "code",
   "execution_count": 23,
   "id": "8c9f6618",
   "metadata": {},
   "outputs": [
    {
     "name": "stdout",
     "output_type": "stream",
     "text": [
      "There is a significant difference in the median accuracy scores between the algorithms.\n"
     ]
    }
   ],
   "source": [
    "from scipy import stats\n",
    "\n",
    "# Accuracy scores for Algorithm A, Algorithm B, and Algorithm C\n",
    "algorithm_a = [0.85, 0.80, 0.82, 0.87, 0.83]\n",
    "algorithm_b = [0.78, 0.82, 0.84, 0.80, 0.79]\n",
    "algorithm_c = [0.90, 0.88, 0.89, 0.86, 0.87]\n",
    "\n",
    "# Perform Kruskal-Wallis test\n",
    "statistic, p_value = stats.kruskal(algorithm_a, algorithm_b, algorithm_c)\n",
    "\n",
    "# Print the result\n",
    "if p_value < 0.05:\n",
    "    print(\"There is a significant difference in the median accuracy scores between the algorithms.\")\n",
    "else:\n",
    "    print(\"There is no significant difference in the median accuracy scores between the algorithms.\")\n"
   ]
  },
  {
   "cell_type": "markdown",
   "id": "c9a03998",
   "metadata": {},
   "source": [
    "### Q18. Scenario: A company wants to analyze the effect of price on sales. The data collected is as follows:\n",
    "    Price (in dollars): [10, 15, 12, 8, 14]\n",
    "    Sales: [100, 80, 90, 110, 95]\n",
    "    Perform a simple linear regression to predict\n",
    "\n",
    " sales based on price.\n"
   ]
  },
  {
   "cell_type": "code",
   "execution_count": 24,
   "id": "d09c14df",
   "metadata": {},
   "outputs": [
    {
     "name": "stdout",
     "output_type": "stream",
     "text": [
      "Predicted Sales: 97.80487804878048\n"
     ]
    }
   ],
   "source": [
    "import numpy as np\n",
    "from sklearn.linear_model import LinearRegression\n",
    "\n",
    "# Price and Sales data\n",
    "price = np.array([10, 15, 12, 8, 14]).reshape(-1, 1)\n",
    "sales = np.array([100, 80, 90, 110, 95])\n",
    "\n",
    "# Create and fit the linear regression model\n",
    "model = LinearRegression()\n",
    "model.fit(price, sales)\n",
    "\n",
    "# Predict sales for a new price value\n",
    "new_price = np.array([11]).reshape(-1, 1)\n",
    "predicted_sales = model.predict(new_price)\n",
    "\n",
    "# Print the predicted sales\n",
    "print(\"Predicted Sales:\", predicted_sales[0])\n"
   ]
  },
  {
   "cell_type": "markdown",
   "id": "5eed5e37",
   "metadata": {},
   "source": [
    "### Q19. Scenario: A survey is conducted to measure the satisfaction levels of customers with a new product. The data collected is as follows:\n",
    "    [7, 8, 9, 6, 8, 7, 9, 7, 8, 7]\n",
    "    Calculate the standard error of the mean satisfaction score.\n"
   ]
  },
  {
   "cell_type": "code",
   "execution_count": 25,
   "id": "ea13c25f",
   "metadata": {},
   "outputs": [
    {
     "name": "stdout",
     "output_type": "stream",
     "text": [
      "Standard Error of the Mean: 0.30550504633038933\n"
     ]
    }
   ],
   "source": [
    "import numpy as np\n",
    "from scipy import stats\n",
    "\n",
    "# Satisfaction scores\n",
    "scores = np.array([7, 8, 9, 6, 8, 7, 9, 7, 8, 7])\n",
    "\n",
    "# Calculate the standard error of the mean\n",
    "standard_error = stats.sem(scores)\n",
    "\n",
    "# Print the result\n",
    "print(\"Standard Error of the Mean:\", standard_error)\n"
   ]
  },
  {
   "cell_type": "markdown",
   "id": "c7854735",
   "metadata": {},
   "source": [
    "### Q20. Scenario: A company wants to analyze the relationship between advertising expenditure and sales. The data collected is as follows:\n",
    "    Advertising Expenditure (in thousands): [10, 15, 12, 8, 14]\n",
    "    Sales (in thousands): [25, 30, 28, 20, 26]\n",
    "    Perform a multiple regression analysis to predict sales based on advertising expenditure.\n"
   ]
  },
  {
   "cell_type": "code",
   "execution_count": 26,
   "id": "fca4f6be",
   "metadata": {},
   "outputs": [
    {
     "name": "stdout",
     "output_type": "stream",
     "text": [
      "Predicted Sales: 27.182926829268293\n"
     ]
    }
   ],
   "source": [
    "import numpy as np\n",
    "from sklearn.linear_model import LinearRegression\n",
    "\n",
    "# Advertising Expenditure and Sales data\n",
    "expenditure = np.array([10, 15, 12, 8, 14]).reshape(-1, 1)\n",
    "sales = np.array([25, 30, 28, 20, 26])\n",
    "\n",
    "# Create and fit the multiple regression model\n",
    "model = LinearRegression()\n",
    "model.fit(expenditure, sales)\n",
    "\n",
    "# Predict sales for a new advertising expenditure value\n",
    "new_expenditure = np.array([13]).reshape(-1, 1)\n",
    "predicted_sales = model.predict(new_expenditure)\n",
    "\n",
    "# Print the predicted sales\n",
    "print(\"Predicted Sales:\", predicted_sales[0])\n"
   ]
  },
  {
   "cell_type": "code",
   "execution_count": null,
   "id": "15844df7",
   "metadata": {},
   "outputs": [],
   "source": []
  }
 ],
 "metadata": {
  "kernelspec": {
   "display_name": "Python 3 (ipykernel)",
   "language": "python",
   "name": "python3"
  },
  "language_info": {
   "codemirror_mode": {
    "name": "ipython",
    "version": 3
   },
   "file_extension": ".py",
   "mimetype": "text/x-python",
   "name": "python",
   "nbconvert_exporter": "python",
   "pygments_lexer": "ipython3",
   "version": "3.9.12"
  }
 },
 "nbformat": 4,
 "nbformat_minor": 5
}
